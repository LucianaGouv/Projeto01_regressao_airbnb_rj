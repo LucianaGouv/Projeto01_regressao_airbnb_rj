{
 "cells": [
  {
   "cell_type": "markdown",
   "id": "e226cb57",
   "metadata": {},
   "source": [
    "# PyCaret comparison notebook\n",
    "\n",
    "This notebook runs PyCaret's regression auto-experiment (compare_models) on the same preprocessed dataset used in the main notebook.\n",
    "\n",
    "Goals:\n",
    "- Load the preprocessed dataset (same as `rio_iqr` from the main notebook) or read `data_preprocessed.csv` if you exported it.\n",
    "- Run PyCaret regression setup and compare_models.\n",
    "- Save PyCaret leaderboard to `pycaret_leaderboard.csv` for later merging with other results.\n",
    "\n",
    "Notes:\n",
    "- Do NOT run the install cells automatically inside a production kernel unless you understand the environment. Use the pip commands provided below in a terminal (venv) or in Colab.\n",
    "- If you want me to run PyCaret inside this environment, tell me and I can attempt to run the install, but it's usually safer for you to run in your `.venv`."
   ]
  },
  {
   "cell_type": "markdown",
   "id": "088e9282",
   "metadata": {},
   "source": [
    "## 1) Quick environment check\n",
    "This cell prints Python and key package versions. Run it to confirm your environment before installing PyCaret."
   ]
  },
  {
   "cell_type": "code",
   "execution_count": null,
   "id": "cd65239b",
   "metadata": {},
   "outputs": [
    {
     "name": "stdout",
     "output_type": "stream",
     "text": [
      "Python:  3 . 1 1 . 0 r c 1   ( m a i n ,   A u g   1 2   2 0 2 2 ,   1 0 : 0 2 : 1 4 )   [ G C C   1 1 . 2 . 0 ] \n",
      "pandas not installed or import failed: No module named 'pandas'\n",
      "numpy not installed or import failed: No module named 'numpy'\n",
      "sklearn not installed or import failed: No module named 'sklearn'\n",
      "pycaret not installed or import failed: No module named 'pycaret'\n",
      "torch not installed or import failed: No module named 'torch'\n"
     ]
    }
   ],
   "source": [
    "import sys, platform, importlib\n",
    "print('Python:', sys.version.replace('',' '))\n",
    "libs = ['pandas','numpy','sklearn','pycaret','torch']\n",
    "for lib in libs:\n",
    "    try:\n",
    "        m = importlib.import_module(lib)\n",
    "        print(lib, 'version ->', getattr(m, '__version__', 'unknown'))\n",
    "    except Exception as e:\n",
    "        print(lib, 'not installed or import failed:', e)"
   ]
  },
  {
   "cell_type": "markdown",
   "id": "c6ad5db6",
   "metadata": {},
   "source": [
    "## 2) Installation guidance (run in terminal / Colab)\n",
    "\n",
    "If you're using a local virtualenv (.venv), run in your terminal (do NOT run inside a production notebook kernel unless you know what you're doing):\n",
    "\n",
    "```bash\n",
    "# Activate your venv first, then run:\n",
    "pip install pycaret[full]==3.0.0rc1  # or a compatible stable version\n",
    "pip install lightgbm xgboost catboost\n",
    "```\n",
    "\n",
    "For Google Colab use this cell (uncomment and run in Colab):\n",
    "\n",
    "```python\n",
    "# !pip install -q pycaret[full]==3.0.0rc1 lightgbm xgboost catboost\n",
    "```\n",
    "\n",
    "PyCaret 3 requires scikit-learn >=1.2 and Python 3.8-3.11; if you're on Python 3.12 your environment may not be compatible with the latest stable pycaret. Check compatibility before installing."
   ]
  },
  {
   "cell_type": "markdown",
   "id": "a90871d4",
   "metadata": {},
   "source": [
    "## 3) Load preprocessed data\n",
    "\n",
    "This cell tries several fallbacks to load the same preprocessed dataframe used in your main notebook:\n",
    "1) If you exported `rio_iqr` to `data_preprocessed.csv` in the main notebook, it will load it.\n",
    "2) If you have the main notebook variables saved in a pickle `preprocessed_vars.pickle`, you can load them.\n",
    "3) If you run this notebook inside the same kernel/session as the main notebook, you can import variables directly (not recommended)."
   ]
  },
  {
   "cell_type": "code",
   "execution_count": 5,
   "id": "8a4b9b3e",
   "metadata": {},
   "outputs": [
    {
     "name": "stdout",
     "output_type": "stream",
     "text": [
      "\u001b[33mWARNING: pandas 1.5.3 does not provide the extra 'parquet'\u001b[0m\u001b[33m\n",
      "\u001b[0m\u001b[33mWARNING: pandas 1.5.2 does not provide the extra 'parquet'\u001b[0m\u001b[33m\n",
      "\u001b[0m\u001b[33mWARNING: pandas 1.5.2 does not provide the extra 'parquet'\u001b[0m\u001b[33m\n",
      "\u001b[0m\u001b[33mWARNING: pandas 1.5.1 does not provide the extra 'parquet'\u001b[0m\u001b[33m\n",
      "\u001b[0m\u001b[33mWARNING: pandas 1.5.1 does not provide the extra 'parquet'\u001b[0m\u001b[33m\n",
      "\u001b[0m\u001b[33mWARNING: pandas 1.5.0 does not provide the extra 'parquet'\u001b[0m\u001b[33m\n",
      "\u001b[0m\u001b[33mWARNING: pandas 1.4.4 does not provide the extra 'parquet'\u001b[0m\u001b[33m\n",
      "\u001b[0m\u001b[33mWARNING: pandas 1.5.0 does not provide the extra 'parquet'\u001b[0m\u001b[33m\n",
      "\u001b[0m\u001b[33mWARNING: pandas 1.4.4 does not provide the extra 'parquet'\u001b[0m\u001b[33m\n",
      "\u001b[0m\u001b[31mERROR: Exception:\n",
      "Traceback (most recent call last):\n",
      "  File \"/usr/lib/python3/dist-packages/pip/_internal/cli/base_command.py\", line 165, in exc_logging_wrapper\n",
      "    status = run_func(*args)\n",
      "  File \"/usr/lib/python3/dist-packages/pip/_internal/cli/req_command.py\", line 205, in wrapper\n",
      "    return func(self, options, args)\n",
      "  File \"/usr/lib/python3/dist-packages/pip/_internal/commands/install.py\", line 389, in run\n",
      "    to_install = resolver.get_installation_order(requirement_set)\n",
      "  File \"/usr/lib/python3/dist-packages/pip/_internal/resolution/resolvelib/resolver.py\", line 188, in get_installation_order\n",
      "    weights = get_topological_weights(\n",
      "  File \"/usr/lib/python3/dist-packages/pip/_internal/resolution/resolvelib/resolver.py\", line 276, in get_topological_weights\n",
      "    assert len(weights) == expected_node_count\n",
      "AssertionError\u001b[0m\u001b[31m\n",
      "\u001b[0m\u001b[31mERROR: Exception:\n",
      "Traceback (most recent call last):\n",
      "  File \"/usr/lib/python3/dist-packages/pip/_internal/cli/base_command.py\", line 165, in exc_logging_wrapper\n",
      "    status = run_func(*args)\n",
      "  File \"/usr/lib/python3/dist-packages/pip/_internal/cli/req_command.py\", line 205, in wrapper\n",
      "    return func(self, options, args)\n",
      "  File \"/usr/lib/python3/dist-packages/pip/_internal/commands/install.py\", line 389, in run\n",
      "    to_install = resolver.get_installation_order(requirement_set)\n",
      "  File \"/usr/lib/python3/dist-packages/pip/_internal/resolution/resolvelib/resolver.py\", line 188, in get_installation_order\n",
      "    weights = get_topological_weights(\n",
      "  File \"/usr/lib/python3/dist-packages/pip/_internal/resolution/resolvelib/resolver.py\", line 276, in get_topological_weights\n",
      "    assert len(weights) == expected_node_count\n",
      "AssertionError\u001b[0m\u001b[31m\n",
      "\u001b[0m"
     ]
    },
    {
     "ename": "ModuleNotFoundError",
     "evalue": "No module named 'pandas'",
     "output_type": "error",
     "traceback": [
      "\u001b[31m---------------------------------------------------------------------------\u001b[39m",
      "\u001b[31mModuleNotFoundError\u001b[39m                       Traceback (most recent call last)",
      "\u001b[36mCell\u001b[39m\u001b[36m \u001b[39m\u001b[32mIn[5]\u001b[39m\u001b[32m, line 2\u001b[39m\n\u001b[32m      1\u001b[39m get_ipython().system(\u001b[33m'\u001b[39m\u001b[33mpip install -q pycaret[full]==3.0.0rc1 lightgbm xgboost catboost\u001b[39m\u001b[33m'\u001b[39m)\n\u001b[32m----> \u001b[39m\u001b[32m2\u001b[39m \u001b[38;5;28;01mimport\u001b[39;00m \u001b[34;01mos\u001b[39;00m, \u001b[34;01mpandas\u001b[39;00m \u001b[38;5;28;01mas\u001b[39;00m \u001b[34;01mpd\u001b[39;00m\n\u001b[32m      3\u001b[39m candidates = [\u001b[33m'\u001b[39m\u001b[33mdata_preprocessed.csv\u001b[39m\u001b[33m'\u001b[39m,\u001b[33m'\u001b[39m\u001b[33mrio_iqr.csv\u001b[39m\u001b[33m'\u001b[39m,\u001b[33m'\u001b[39m\u001b[33mrio_iqr.parquet\u001b[39m\u001b[33m'\u001b[39m]\n\u001b[32m      4\u001b[39m df = \u001b[38;5;28;01mNone\u001b[39;00m\n",
      "\u001b[31mModuleNotFoundError\u001b[39m: No module named 'pandas'"
     ]
    }
   ],
   "source": [
    "import os, pandas as pd\n",
    "candidates = ['data_preprocessed.csv','rio_iqr.csv','rio_iqr.parquet']\n",
    "df = None\n",
    "for fn in candidates:\n",
    "    if os.path.exists(fn):\n",
    "        print('Loading', fn)\n",
    "        df = pd.read_csv(fn) if fn.endswith('.csv') else pd.read_parquet(fn)\n",
    "        break\n",
    "if df is None:\n",
    "    print('No local preprocessed file found. Please either:')\n",
    "    print(' - Export `rio_iqr` from your main notebook to data_preprocessed.csv and re-run this cell')\n",
    "    print(' - Or place the preprocessed CSV in the same folder as this notebook')\n",
    "else:\n",
    "    print('Loaded dataframe shape:', df.shape)\n",
    "    display(df.head())"
   ]
  },
  {
   "cell_type": "markdown",
   "id": "184c060f",
   "metadata": {},
   "source": [
    "## 4) PyCaret setup and compare_models\n",
    "\n",
    "The cell below demonstrates a standard PyCaret regression workflow. It expects the dataframe `df` to exist and the target column to be named `price` (change if your target is different).\n",
    "\n",
    "IMPORTANT: Do not auto-install packages inside the kernel unless you accept the risk. If PyCaret isn't installed, follow the instructions in the installation cell and come back here."
   ]
  },
  {
   "cell_type": "code",
   "execution_count": 1,
   "id": "4b619b6a",
   "metadata": {},
   "outputs": [
    {
     "name": "stdout",
     "output_type": "stream",
     "text": [
      "PyCaret import failed: No module named 'pycaret'\n"
     ]
    },
    {
     "ename": "ModuleNotFoundError",
     "evalue": "No module named 'pycaret'",
     "output_type": "error",
     "traceback": [
      "\u001b[31m---------------------------------------------------------------------------\u001b[39m",
      "\u001b[31mModuleNotFoundError\u001b[39m                       Traceback (most recent call last)",
      "\u001b[36mCell\u001b[39m\u001b[36m \u001b[39m\u001b[32mIn[1]\u001b[39m\u001b[32m, line 4\u001b[39m\n\u001b[32m      2\u001b[39m get_ipython().system(\u001b[33m'\u001b[39m\u001b[33mpip install pycaret -q\u001b[39m\u001b[33m'\u001b[39m)\n\u001b[32m      3\u001b[39m \u001b[38;5;28;01mtry\u001b[39;00m:\n\u001b[32m----> \u001b[39m\u001b[32m4\u001b[39m     \u001b[38;5;28;01mfrom\u001b[39;00m \u001b[34;01mpycaret\u001b[39;00m\u001b[34;01m.\u001b[39;00m\u001b[34;01mregression\u001b[39;00m \u001b[38;5;28;01mimport\u001b[39;00m setup, compare_models, pull, save_config\n\u001b[32m      5\u001b[39m \u001b[38;5;28;01mexcept\u001b[39;00m \u001b[38;5;167;01mException\u001b[39;00m \u001b[38;5;28;01mas\u001b[39;00m e:\n\u001b[32m      6\u001b[39m     \u001b[38;5;28mprint\u001b[39m(\u001b[33m'\u001b[39m\u001b[33mPyCaret import failed:\u001b[39m\u001b[33m'\u001b[39m, e)\n",
      "\u001b[31mModuleNotFoundError\u001b[39m: No module named 'pycaret'"
     ]
    }
   ],
   "source": [
    "# Run this after installing pycaret in your environment and ensuring `df` is loaded\n",
    "!pip install pycaret -q\n",
    "try:\n",
    "    from pycaret.regression import setup, compare_models, pull, save_config\n",
    "except Exception as e:\n",
    "    print('PyCaret import failed:', e)\n",
    "    raise\n",
    "\n",
    "TARGET = 'price'\n",
    "if 'df' not in globals() or df is None:\n",
    "    raise RuntimeError('Dataframe `df` not loaded. Run the data-loading cell first or export `rio_iqr` to data_preprocessed.csv')\n",
    "\n",
    "# Basic PyCaret setup\n",
    "s = setup(df, target=TARGET, silent=True, session_id=42, fold=5, verbose=False)\n"
   ]
  }
 ],
 "metadata": {
  "kernelspec": {
   "display_name": "Python 3",
   "language": "python",
   "name": "python3"
  },
  "language_info": {
   "codemirror_mode": {
    "name": "ipython",
    "version": 3
   },
   "file_extension": ".py",
   "mimetype": "text/x-python",
   "name": "python",
   "nbconvert_exporter": "python",
   "pygments_lexer": "ipython3",
   "version": "3.11.0rc1"
  }
 },
 "nbformat": 4,
 "nbformat_minor": 5
}
